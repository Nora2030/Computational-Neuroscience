{
 "cells": [
  {
   "cell_type": "code",
   "execution_count": 2,
   "id": "e8fb93f5-cc68-40f3-8678-3fa2ab9b92f6",
   "metadata": {},
   "outputs": [
    {
     "name": "stdin",
     "output_type": "stream",
     "text": [
      "Enter the size of the image (NxN):  6\n",
      "Enter the size of the kernel (KxK):  3\n",
      "Enter the stride for convolution:  1\n",
      "Enter the padding size:  1\n",
      "Enter the max pooling filter size:  2\n",
      "Enter the stride for max pooling:  2\n"
     ]
    },
    {
     "name": "stdout",
     "output_type": "stream",
     "text": [
      "Enter the Red channel matrix (6x6):\n"
     ]
    },
    {
     "name": "stdin",
     "output_type": "stream",
     "text": [
      " 112 125 25 80 220  \n",
      " 150 95 15 100 115  \n",
      " 200 100 48 90 70  \n",
      " 187 56 43 180 200  \n",
      " 190 87 70 37 24  \n",
      " 190 87 70 37 24  \n"
     ]
    },
    {
     "name": "stdout",
     "output_type": "stream",
     "text": [
      "Enter the kernel for Red channel (3x3):\n"
     ]
    },
    {
     "name": "stdin",
     "output_type": "stream",
     "text": [
      " 0 -1 0  \n",
      " 1 -1 1  \n",
      " 1 0 0  \n"
     ]
    },
    {
     "name": "stdout",
     "output_type": "stream",
     "text": [
      "Enter the Green channel matrix (6x6):\n"
     ]
    },
    {
     "name": "stdin",
     "output_type": "stream",
     "text": [
      " 200 125 25 80 220  \n",
      " 50 95 15 150 115  \n",
      " 90 110 48 190 70  \n",
      " 180 135 43 106 180  \n",
      " 55 98 70 37 24  \n",
      " 55 98 70 37 24  \n"
     ]
    },
    {
     "name": "stdout",
     "output_type": "stream",
     "text": [
      "Enter the kernel for Green channel (3x3):\n"
     ]
    },
    {
     "name": "stdin",
     "output_type": "stream",
     "text": [
      " 1 1 0  \n",
      " -1 -1 -1  \n",
      " 0 1 1  \n"
     ]
    },
    {
     "name": "stdout",
     "output_type": "stream",
     "text": [
      "Enter the Blue channel matrix (6x6):\n"
     ]
    },
    {
     "name": "stdin",
     "output_type": "stream",
     "text": [
      "  112 125 25 80 220  \n",
      "  187 56 43 180 200  \n",
      "  90 110 48 190 70  \n",
      "  55 98 70 37 24  \n",
      "  190 87 70 37 24  \n",
      "  200 125 25 80 220  \n"
     ]
    },
    {
     "name": "stdout",
     "output_type": "stream",
     "text": [
      "Enter the kernel for Blue channel (3x3):\n"
     ]
    },
    {
     "name": "stdin",
     "output_type": "stream",
     "text": [
      "  1 -1 1  \n",
      "  0 -1 0  \n",
      "  0 1 1  \n"
     ]
    },
    {
     "name": "stdout",
     "output_type": "stream",
     "text": [
      "Final Output after Conv + ReLU + Max Pooling for RGB channels:\n",
      "Red Channel:\n",
      "[162, 275, 335]\n",
      "[264, 232, 270]\n",
      "[307, 98, 48]\n",
      "Green Channel:\n",
      "[323, 128, 105]\n",
      "[165, 143, 185]\n",
      "[260, 80, 249]\n",
      "Blue Channel:\n",
      "[131, 375, 220]\n",
      "[242, 289, 200]\n",
      "[178, 320, 209]\n"
     ]
    }
   ],
   "source": [
    "def pad_image(image, pad):\n",
    "    \"\"\"Pads the image with zeros around the border.\"\"\"\n",
    "    padded_size = len(image) + 2 * pad\n",
    "    padded_image = [[0] * padded_size for _ in range(padded_size)]\n",
    "    for i in range(len(image)):\n",
    "        for j in range(len(image[0])):\n",
    "            padded_image[i + pad][j + pad] = image[i][j]\n",
    "    return padded_image\n",
    "\n",
    "def apply_convolution(images, kernels, stride, padding):\n",
    "    \"\"\"Applies convolution operation for multiple kernels (RGB channels) with given stride and padding.\"\"\"\n",
    "    num_channels = len(images)\n",
    "    padded_images = [pad_image(images[c], padding) for c in range(num_channels)]\n",
    "    image_size = len(padded_images[0])\n",
    "    kernel_size = len(kernels[0])\n",
    "    output_size = (image_size - kernel_size) // stride + 1\n",
    "    \n",
    "    output = [[[0] * output_size for _ in range(output_size)] for _ in range(num_channels)]\n",
    "    \n",
    "    for c in range(num_channels):\n",
    "        kernel = kernels[c]\n",
    "        for i in range(output_size):\n",
    "            for j in range(output_size):\n",
    "                value = 0\n",
    "                for ki in range(kernel_size):\n",
    "                    for kj in range(kernel_size):\n",
    "                        value += padded_images[c][i * stride + ki][j * stride + kj] * kernel[ki][kj]\n",
    "                output[c][i][j] = max(0, value)  # ReLU Activation\n",
    "    return output\n",
    "\n",
    "def max_pooling(images, pool_size, stride):\n",
    "    \"\"\"Applies max pooling operation for multiple channels.\"\"\"\n",
    "    num_channels = len(images)\n",
    "    image_size = len(images[0])\n",
    "    output_size = (image_size - pool_size) // stride + 1\n",
    "    \n",
    "    output = [[[0] * output_size for _ in range(output_size)] for _ in range(num_channels)]\n",
    "    \n",
    "    for c in range(num_channels):\n",
    "        image = images[c]\n",
    "        for i in range(output_size):\n",
    "            for j in range(output_size):\n",
    "                max_value = float('-inf')\n",
    "                for pi in range(pool_size):\n",
    "                    for pj in range(pool_size):\n",
    "                        max_value = max(max_value, image[i * stride + pi][j * stride + pj])\n",
    "                output[c][i][j] = max_value\n",
    "    return output\n",
    "\n",
    "# User Inputs for Image and Kernels\n",
    "image = []\n",
    "kernels = []\n",
    "channels = ['Red', 'Green', 'Blue']\n",
    "\n",
    "size = int(input(\"Enter the size of the image (NxN): \"))\n",
    "kernel_size = int(input(\"Enter the size of the kernel (KxK): \"))\n",
    "stride = int(input(\"Enter the stride for convolution: \"))\n",
    "padding = int(input(\"Enter the padding size: \"))\n",
    "pool_size = int(input(\"Enter the max pooling filter size: \"))\n",
    "pool_stride = int(input(\"Enter the stride for max pooling: \"))\n",
    "\n",
    "for c in range(3):\n",
    "    print(f\"Enter the {channels[c]} channel matrix ({size}x{size}):\")\n",
    "    channel_matrix = [list(map(int, input().split())) for _ in range(size)]\n",
    "    image.append(channel_matrix)\n",
    "    \n",
    "    print(f\"Enter the kernel for {channels[c]} channel ({kernel_size}x{kernel_size}):\")\n",
    "    kernel_matrix = [list(map(int, input().split())) for _ in range(kernel_size)]\n",
    "    kernels.append(kernel_matrix)\n",
    "\n",
    "conv_output = apply_convolution(image, kernels, stride, padding)\n",
    "pool_output = max_pooling(conv_output, pool_size, pool_stride)\n",
    "\n",
    "print(\"Final Output after Conv + ReLU + Max Pooling for RGB channels:\")\n",
    "for c in range(len(pool_output)):\n",
    "    print(f\"{channels[c]} Channel:\")\n",
    "    for row in pool_output[c]:\n",
    "        print(row)"
   ]
  },
  {
   "cell_type": "code",
   "execution_count": null,
   "id": "2cbf06f1-b060-40b4-bbdb-de100aa4499a",
   "metadata": {},
   "outputs": [],
   "source": []
  }
 ],
 "metadata": {
  "kernelspec": {
   "display_name": "Python 3 (ipykernel)",
   "language": "python",
   "name": "python3"
  },
  "language_info": {
   "codemirror_mode": {
    "name": "ipython",
    "version": 3
   },
   "file_extension": ".py",
   "mimetype": "text/x-python",
   "name": "python",
   "nbconvert_exporter": "python",
   "pygments_lexer": "ipython3",
   "version": "3.12.7"
  }
 },
 "nbformat": 4,
 "nbformat_minor": 5
}
