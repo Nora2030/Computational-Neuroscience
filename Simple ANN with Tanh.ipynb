{
 "cells": [
  {
   "cell_type": "code",
   "execution_count": 1,
   "id": "f93fe852-bda0-4b60-85a0-cb82b53fa82c",
   "metadata": {},
   "outputs": [
    {
     "name": "stdout",
     "output_type": "stream",
     "text": [
      "Output of o1: 0.4961929820016582\n",
      "Output of o2: 0.3815764127199357\n"
     ]
    }
   ],
   "source": [
    "import random\n",
    "\n",
    "def tanh(x):\n",
    "    return (2 / (1 + (2.718281828459045 ** (-2 * x)))) - 1\n",
    "\n",
    "def dot_product(weights, inputs):\n",
    "    return sum(w * i for w, i in zip(weights, inputs))\n",
    "\n",
    "def forward_pass(inputs, weights, biases):\n",
    "    # First layer calculations\n",
    "    net_h1 = dot_product(weights[\"w_h1\"], inputs) + biases[\"b1\"]\n",
    "    net_h2 = dot_product(weights[\"w_h2\"], inputs) + biases[\"b1\"]\n",
    "    \n",
    "    out_h1 = tanh(net_h1)\n",
    "    out_h2 = tanh(net_h2)\n",
    "    \n",
    "    hidden_outputs = [out_h1, out_h2]\n",
    "    \n",
    "    # Output layer calculations\n",
    "    net_o1 = dot_product(weights[\"w_o1\"], hidden_outputs) + biases[\"b2\"]\n",
    "    net_o2 = dot_product(weights[\"w_o2\"], hidden_outputs) + biases[\"b2\"]\n",
    "    \n",
    "    out_o1 = tanh(net_o1)\n",
    "    out_o2 = tanh(net_o2)\n",
    "    \n",
    "    return out_o1, out_o2\n",
    "\n",
    "# Define input values (i1, i2, bias=1)\n",
    "inputs = [0.05, 0.10, 1]\n",
    "\n",
    "# Random weights in range [-0.5, 0.5]\n",
    "random.seed(42)  # For reproducibility\n",
    "weights = {\n",
    "    \"w_h1\": [random.uniform(-0.5, 0.5) for _ in range(3)],\n",
    "    \"w_h2\": [random.uniform(-0.5, 0.5) for _ in range(3)],\n",
    "    \"w_o1\": [random.uniform(-0.5, 0.5) for _ in range(2)],\n",
    "    \"w_o2\": [random.uniform(-0.5, 0.5) for _ in range(2)]\n",
    "}\n",
    "\n",
    "# Define biases\n",
    "biases = {\"b1\": 0.5, \"b2\": 0.7}\n",
    "\n",
    "# Get network output\n",
    "output_o1, output_o2 = forward_pass(inputs, weights, biases)\n",
    "\n",
    "# Print results\n",
    "print(f\"Output of o1: {output_o1}\")\n",
    "print(f\"Output of o2: {output_o2}\")\n"
   ]
  },
  {
   "cell_type": "code",
   "execution_count": null,
   "id": "a58ca87d-4908-461b-8de4-37daaf85302e",
   "metadata": {},
   "outputs": [],
   "source": []
  }
 ],
 "metadata": {
  "kernelspec": {
   "display_name": "Python 3 (ipykernel)",
   "language": "python",
   "name": "python3"
  },
  "language_info": {
   "codemirror_mode": {
    "name": "ipython",
    "version": 3
   },
   "file_extension": ".py",
   "mimetype": "text/x-python",
   "name": "python",
   "nbconvert_exporter": "python",
   "pygments_lexer": "ipython3",
   "version": "3.12.7"
  }
 },
 "nbformat": 4,
 "nbformat_minor": 5
}
